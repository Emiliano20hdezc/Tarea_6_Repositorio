{
 "cells": [
  {
   "cell_type": "markdown",
   "id": "32cf1bf5",
   "metadata": {},
   "source": [
    "<img style=\"float: left; margin: 30px 15px 15px 15px;\" src=\"https://encrypted-tbn0.gstatic.com/images?q=tbn:ANd9GcTFzQj91sOlkeDFkg5HDbjtR4QJYmLXkfMNig&usqp=CAU\" width=\"400\" height=\"500\" /> \n",
    "    \n",
    "    \n",
    "### <font color='navy'> Simulación matemática. \n",
    "\n",
    "**Nombres:** Hector Fletes Peña, Emiliano Hernández Campos .\n",
    "\n",
    "**Fecha:** 02 de octubre del 2023.\n",
    "\n",
    "**Expediente** : 741874, 745067.\n",
    "    \n",
    "**Profesor:** Oscar David Jaramillo Zuluaga.\n",
    "    \n",
    "**Link Github**:\n",
    "# Tarea 6: Clase 10"
   ]
  },
  {
   "cell_type": "markdown",
   "id": "e55be0f4",
   "metadata": {},
   "source": [
    "1. Aproximar el área de la región descrita por\n",
    "\n",
    "$$x^2+2y^2\\leq-2x+8y-7$$\n",
    "\n",
    "Poner los resultados en una tabla cuyas filas correspondan a la cantidad de términos utilizados en la aproximación (usar 1, 10, 100, 1000, 10000 y 100000 términos) y en las columnas el valor de aproximación y el error relativo.\n",
    "\n",
    "Definir unos límites adecuados $a_1$, $b_1$, $a_2$ y $b_2$, para la región $R=\\left[a_1,b_1\\right]\\times\\left[a_2,b_2\\right]$\n",
    "\n",
    "**Entregable: se debe subir un archivo con extensión .ipnyb y nombrarlo con el formato T7PrimerNombrePrimerApellido.ipynb**"
   ]
  },
  {
   "cell_type": "code",
   "execution_count": null,
   "id": "bab1cc6b",
   "metadata": {},
   "outputs": [],
   "source": [
    "Código de solución estudiante 1"
   ]
  },
  {
   "cell_type": "code",
   "execution_count": null,
   "id": "0e05f7fc",
   "metadata": {},
   "outputs": [],
   "source": []
  },
  {
   "cell_type": "code",
   "execution_count": null,
   "id": "9a09ddd7",
   "metadata": {},
   "outputs": [],
   "source": [
    "Código de solución estudiante 2"
   ]
  },
  {
   "cell_type": "code",
   "execution_count": null,
   "id": "55a27489",
   "metadata": {},
   "outputs": [],
   "source": []
  }
 ],
 "metadata": {
  "kernelspec": {
   "display_name": "Python 3 (ipykernel)",
   "language": "python",
   "name": "python3"
  },
  "language_info": {
   "codemirror_mode": {
    "name": "ipython",
    "version": 3
   },
   "file_extension": ".py",
   "mimetype": "text/x-python",
   "name": "python",
   "nbconvert_exporter": "python",
   "pygments_lexer": "ipython3",
   "version": "3.11.4"
  }
 },
 "nbformat": 4,
 "nbformat_minor": 5
}
