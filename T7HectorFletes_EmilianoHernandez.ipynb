{
 "cells": [
  {
   "cell_type": "markdown",
   "id": "57d41e58",
   "metadata": {},
   "source": [
    "<img style=\"float: left; margin: 30px 15px 15px 15px;\" src=\"https://encrypted-tbn0.gstatic.com/images?q=tbn:ANd9GcTFzQj91sOlkeDFkg5HDbjtR4QJYmLXkfMNig&usqp=CAU\" width=\"400\" height=\"500\" /> \n",
    "    \n",
    "    \n",
    "### <font color='navy'> Simulación matemática. \n",
    "\n",
    "**Nombres:** Hector Fletes Peña, Emiliano Hernández Campos .\n",
    "\n",
    "**Fecha:** 02 de octubre del 2023.\n",
    "\n",
    "**Expediente** : 741874, 745067.\n",
    "    \n",
    "**Profesor:** Oscar David Jaramillo Zuluaga.\n",
    "    \n",
    "**Link Github**:\n",
    "# Tarea 6: Clase 10"
   ]
  },
  {
   "cell_type": "markdown",
   "id": "89f6efe9",
   "metadata": {},
   "source": [
    "1. Aproximar el área de la región descrita por\n",
    "\n",
    "$$x^2+2y^2\\leq-2x+8y-7$$\n",
    "\n",
    "Poner los resultados en una tabla cuyas filas correspondan a la cantidad de términos utilizados en la aproximación (usar 1, 10, 100, 1000, 10000 y 100000 términos) y en las columnas el valor de aproximación y el error relativo.\n",
    "\n",
    "Definir unos límites adecuados $a_1$, $b_1$, $a_2$ y $b_2$, para la región $R=\\left[a_1,b_1\\right]\\times\\left[a_2,b_2\\right]$\n",
    "\n",
    "**Entregable: se debe subir un archivo con extensión .ipnyb y nombrarlo con el formato T7PrimerNombrePrimerApellido.ipynb**"
   ]
  },
  {
   "cell_type": "markdown",
   "id": "82462896",
   "metadata": {},
   "source": [
    "Código de solución estudiante 1 (Emiliano Hernández Campos)"
   ]
  },
  {
   "cell_type": "code",
   "execution_count": 5,
   "id": "09af769b",
   "metadata": {},
   "outputs": [],
   "source": [
    "import pandas as pd\n",
    "import numpy as np\n",
    "import matplotlib.pyplot as plt"
   ]
  },
  {
   "cell_type": "code",
   "execution_count": 6,
   "id": "f7f62fa2",
   "metadata": {},
   "outputs": [],
   "source": [
    "def montecarlo(region, a1, b1, a2, b2,N):\n",
    "    #area del rectangulo\n",
    "    AR = (b1-a1)*(b2-a2)\n",
    "    #generar los puntos\n",
    "    x = np.random.uniform(a1,b1,N)\n",
    "    y = np.random.uniform(a2,b2,N)\n",
    "    #calcular si los puntos estan en la region\n",
    "    bi = region(x,y)\n",
    "    #calcular area aproximada\n",
    "    AD_approx= AR*(1/N)*np.sum(bi)\n",
    "    return AD_approx"
   ]
  },
  {
   "cell_type": "code",
   "execution_count": 7,
   "id": "963b141d",
   "metadata": {},
   "outputs": [],
   "source": [
    "def region(x,y):\n",
    "    return (x**2) + 2*(y**2) <= -2*x + 8*y -7 "
   ]
  },
  {
   "cell_type": "code",
   "execution_count": 8,
   "id": "01c31e34",
   "metadata": {},
   "outputs": [
    {
     "data": {
      "image/png": "[encoded data removed]",
      "text/plain": [
       "<Figure size 600x600 with 1 Axes>"
      ]
     },
     "metadata": {},
     "output_type": "display_data"
    }
   ],
   "source": [
    "M=100\n",
    "xnum=np.linspace(-2.5,.5,M) #intervalo del eje x\n",
    "ynum=np.linspace(1,3,M) #intervalo del eje y\n",
    "\n",
    "X, Y = np.meshgrid(xnum,ynum)\n",
    "#Grafica\n",
    "plt.figure(figsize=(6,6))\n",
    "plt.scatter(X, Y, c=~region(X,Y), cmap='bone')\n",
    "plt.show()"
   ]
  },
  {
   "cell_type": "code",
   "execution_count": 9,
   "id": "822f43bd",
   "metadata": {},
   "outputs": [
    {
     "data": {
      "text/html": [
       "<div>\n",
       "<style scoped>\n",
       "    .dataframe tbody tr th:only-of-type {\n",
       "        vertical-align: middle;\n",
       "    }\n",
       "\n",
       "    .dataframe tbody tr th {\n",
       "        vertical-align: top;\n",
       "    }\n",
       "\n",
       "    .dataframe thead th {\n",
       "        text-align: right;\n",
       "    }\n",
       "</style>\n",
       "<table border=\"1\" class=\"dataframe\">\n",
       "  <thead>\n",
       "    <tr style=\"text-align: right;\">\n",
       "      <th></th>\n",
       "      <th>Aproximacion</th>\n",
       "      <th>Error</th>\n",
       "    </tr>\n",
       "  </thead>\n",
       "  <tbody>\n",
       "    <tr>\n",
       "      <th>10</th>\n",
       "      <td>5.4</td>\n",
       "      <td>0.957117</td>\n",
       "    </tr>\n",
       "    <tr>\n",
       "      <th>100</th>\n",
       "      <td>4.68</td>\n",
       "      <td>0.237117</td>\n",
       "    </tr>\n",
       "    <tr>\n",
       "      <th>1000</th>\n",
       "      <td>4.602</td>\n",
       "      <td>0.159117</td>\n",
       "    </tr>\n",
       "    <tr>\n",
       "      <th>10000</th>\n",
       "      <td>4.4388</td>\n",
       "      <td>0.004083</td>\n",
       "    </tr>\n",
       "    <tr>\n",
       "      <th>100000</th>\n",
       "      <td>4.43766</td>\n",
       "      <td>0.005223</td>\n",
       "    </tr>\n",
       "    <tr>\n",
       "      <th>1000000</th>\n",
       "      <td>4.444206</td>\n",
       "      <td>0.001323</td>\n",
       "    </tr>\n",
       "  </tbody>\n",
       "</table>\n",
       "</div>"
      ],
      "text/plain": [
       "        Aproximacion     Error\n",
       "10               5.4  0.957117\n",
       "100             4.68  0.237117\n",
       "1000           4.602  0.159117\n",
       "10000         4.4388  0.004083\n",
       "100000       4.43766  0.005223\n",
       "1000000     4.444206  0.001323"
      ]
     },
     "execution_count": 9,
     "metadata": {},
     "output_type": "execute_result"
    }
   ],
   "source": [
    "AD=np.sqrt(2)*np.pi\n",
    "a1=-2.5\n",
    "b1=.5\n",
    "a2=1\n",
    "b2=3\n",
    "\n",
    "#Definir la cantidad de terminos a utilizar \n",
    "N = np.logspace(1,6,6).astype(int)\n",
    "\n",
    "tabla4= pd.DataFrame(index=N,columns=['Aproximacion','Error'])\n",
    "\n",
    "for n in N:\n",
    "    AD_approx = montecarlo(region, a1, b1, a2, b2,n)\n",
    "    tabla4.loc[n, 'Aproximacion'] = AD_approx\n",
    "    tabla4.loc[n, 'Error'] = np.abs(AD-AD_approx)\n",
    "tabla4"
   ]
  },
  {
   "cell_type": "markdown",
   "id": "ff69ff83",
   "metadata": {},
   "source": [
    "Código de solución estudiante 2 (Hector Fletes Peña) "
   ]
  },
  {
   "cell_type": "code",
   "execution_count": null,
   "id": "71175c53",
   "metadata": {},
   "outputs": [],
   "source": []
  }
 ],
 "metadata": {
  "kernelspec": {
   "display_name": "Python 3 (ipykernel)",
   "language": "python",
   "name": "python3"
  },
  "language_info": {
   "codemirror_mode": {
    "name": "ipython",
    "version": 3
   },
   "file_extension": ".py",
   "mimetype": "text/x-python",
   "name": "python",
   "nbconvert_exporter": "python",
   "pygments_lexer": "ipython3",
   "version": "3.11.4"
  }
 },
 "nbformat": 4,
 "nbformat_minor": 5
}
