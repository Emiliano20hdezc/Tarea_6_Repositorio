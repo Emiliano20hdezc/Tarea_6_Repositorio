{
 "cells": [
  {
   "cell_type": "markdown",
   "id": "5f0ac4c9",
   "metadata": {},
   "source": [
    "<img style=\"float: left; margin: 30px 15px 15px 15px;\" src=\"https://encrypted-tbn0.gstatic.com/images?q=tbn:ANd9GcTFzQj91sOlkeDFkg5HDbjtR4QJYmLXkfMNig&usqp=CAU\" width=\"400\" height=\"500\" /> \n",
    "    \n",
    "    \n",
    "### <font color='navy'> Simulación matemática. \n",
    "\n",
    "**Nombres:** Hector Fletes Peña, Emiliano Hernández Campos .\n",
    "\n",
    "**Fecha:** 02 de octubre del 2023.\n",
    "\n",
    "**Expediente** : 741874, 745067.\n",
    "    \n",
    "**Profesor:** Oscar David Jaramillo Zuluaga.\n",
    "    \n",
    "**Link Github**: Link con el enlace del repositorio del creador del proyecto\n",
    "\n",
    "# Tarea 5: Clase 10"
   ]
  },
  {
   "cell_type": "markdown",
   "id": "9e3389d8",
   "metadata": {},
   "source": [
    "1. Realizar las siguientes integrales. Poner los resultados en una tabla cuyas filas correspondan a la cantidad de términos utilizados en la aproximación (usar 10, 100, 1000, 10000 y 100000 términos) y cuyas columnas correspondan a las funciones.\n",
    "    + $\\int_{1}^{5} \\log_{10}(2x)+8^x\\text{d}x$.\n",
    "    + $\\int_1^5 \\frac{2^x}{x^4} \\text{d}x$"
   ]
  },
  {
   "cell_type": "markdown",
   "id": "496be26d",
   "metadata": {},
   "source": [
    "Código de solución estudiante 1"
   ]
  },
  {
   "cell_type": "code",
   "execution_count": 1,
   "id": "10ec477b",
   "metadata": {},
   "outputs": [],
   "source": [
    "import numpy as np\n",
    "import pandas as pd"
   ]
  },
  {
   "cell_type": "code",
   "execution_count": 2,
   "id": "594125f6",
   "metadata": {},
   "outputs": [],
   "source": [
    "def montecarlo(f,a,b,N):\n",
    "    ui =(b-a)*np.random.rand(N) + a\n",
    "    VP = (1/N)*np.sum(f(ui))\n",
    "    AD_approx = (b-a)*VP\n",
    "    \n",
    "    return AD_approx"
   ]
  },
  {
   "cell_type": "code",
   "execution_count": 3,
   "id": "94030523",
   "metadata": {},
   "outputs": [],
   "source": [
    "def f1(x):\n",
    "    return np.log10(2*x) + 8**x\n",
    "def f2(x):\n",
    "    return (2**x)/(x**4)\n",
    "# 2. Definimos los limites de integracion\n",
    "a, b=1,5\n",
    "# 3. Definimos cantidades de terminos\n",
    "N = np.logspace(1,5,5).astype(int)"
   ]
  },
  {
   "cell_type": "code",
   "execution_count": 5,
   "id": "70a3b951",
   "metadata": {},
   "outputs": [
    {
     "data": {
      "text/plain": [
       "array([    10,    100,   1000,  10000, 100000])"
      ]
     },
     "execution_count": 5,
     "metadata": {},
     "output_type": "execute_result"
    }
   ],
   "source": [
    "N"
   ]
  },
  {
   "cell_type": "code",
   "execution_count": 4,
   "id": "db2de02c",
   "metadata": {},
   "outputs": [
    {
     "data": {
      "text/html": [
       "<div>\n",
       "<style scoped>\n",
       "    .dataframe tbody tr th:only-of-type {\n",
       "        vertical-align: middle;\n",
       "    }\n",
       "\n",
       "    .dataframe tbody tr th {\n",
       "        vertical-align: top;\n",
       "    }\n",
       "\n",
       "    .dataframe thead th {\n",
       "        text-align: right;\n",
       "    }\n",
       "</style>\n",
       "<table border=\"1\" class=\"dataframe\">\n",
       "  <thead>\n",
       "    <tr style=\"text-align: right;\">\n",
       "      <th></th>\n",
       "      <th>aproximacion f1</th>\n",
       "      <th>aproximacion f2</th>\n",
       "    </tr>\n",
       "    <tr>\n",
       "      <th>cantidad terminos</th>\n",
       "      <th></th>\n",
       "      <th></th>\n",
       "    </tr>\n",
       "  </thead>\n",
       "  <tbody>\n",
       "    <tr>\n",
       "      <th>10</th>\n",
       "      <td>29681.671692</td>\n",
       "      <td>2.296353</td>\n",
       "    </tr>\n",
       "    <tr>\n",
       "      <th>100</th>\n",
       "      <td>12379.912508</td>\n",
       "      <td>0.763277</td>\n",
       "    </tr>\n",
       "    <tr>\n",
       "      <th>1000</th>\n",
       "      <td>15715.232933</td>\n",
       "      <td>1.067805</td>\n",
       "    </tr>\n",
       "    <tr>\n",
       "      <th>10000</th>\n",
       "      <td>15854.820125</td>\n",
       "      <td>1.014105</td>\n",
       "    </tr>\n",
       "    <tr>\n",
       "      <th>100000</th>\n",
       "      <td>15835.429395</td>\n",
       "      <td>1.004053</td>\n",
       "    </tr>\n",
       "  </tbody>\n",
       "</table>\n",
       "</div>"
      ],
      "text/plain": [
       "                  aproximacion f1 aproximacion f2\n",
       "cantidad terminos                                \n",
       "10                   29681.671692        2.296353\n",
       "100                  12379.912508        0.763277\n",
       "1000                 15715.232933        1.067805\n",
       "10000                15854.820125        1.014105\n",
       "100000               15835.429395        1.004053"
      ]
     },
     "execution_count": 4,
     "metadata": {},
     "output_type": "execute_result"
    }
   ],
   "source": [
    "tabla = pd.DataFrame(index=N, columns=['aproximacion f1',\n",
    "                                       'aproximacion f2'] )\n",
    "tabla.index.name = 'cantidad terminos'\n",
    "\n",
    "for n in N:\n",
    "    aprox_f1 = montecarlo(f1,a,b,n)\n",
    "    aprox_f2 = montecarlo(f2,a,b,n)\n",
    "    \n",
    "    tabla.loc[n,'aproximacion f1'] = aprox_f1\n",
    "    tabla.loc[n,'aproximacion f2'] = aprox_f2\n",
    "    \n",
    "tabla"
   ]
  },
  {
   "cell_type": "code",
   "execution_count": null,
   "id": "7d2368d5",
   "metadata": {},
   "outputs": [],
   "source": []
  },
  {
   "cell_type": "markdown",
   "id": "756947d5",
   "metadata": {},
   "source": []
  },
  {
   "cell_type": "markdown",
   "id": "d9667162",
   "metadata": {},
   "source": [
    "Código de solución estudiante 2"
   ]
  },
  {
   "cell_type": "code",
   "execution_count": null,
   "id": "e782140e",
   "metadata": {},
   "outputs": [],
   "source": []
  }
 ],
 "metadata": {
  "kernelspec": {
   "display_name": "Python 3 (ipykernel)",
   "language": "python",
   "name": "python3"
  },
  "language_info": {
   "codemirror_mode": {
    "name": "ipython",
    "version": 3
   },
   "file_extension": ".py",
   "mimetype": "text/x-python",
   "name": "python",
   "nbconvert_exporter": "python",
   "pygments_lexer": "ipython3",
   "version": "3.11.4"
  }
 },
 "nbformat": 4,
 "nbformat_minor": 5
}
