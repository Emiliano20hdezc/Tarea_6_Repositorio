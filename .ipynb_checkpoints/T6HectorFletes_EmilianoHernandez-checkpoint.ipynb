{
 "cells": [
  {
   "cell_type": "markdown",
   "id": "5f0ac4c9",
   "metadata": {},
   "source": [
    "<img style=\"float: left; margin: 30px 15px 15px 15px;\" src=\"https://encrypted-tbn0.gstatic.com/images?q=tbn:ANd9GcTFzQj91sOlkeDFkg5HDbjtR4QJYmLXkfMNig&usqp=CAU\" width=\"400\" height=\"500\" /> \n",
    "    \n",
    "    \n",
    "### <font color='navy'> Simulación matemática. \n",
    "\n",
    "**Nombres:** Hector Fletes Peña, Emiliano Hernández Campos .\n",
    "\n",
    "**Fecha:** 02 de octubre del 2023.\n",
    "\n",
    "**Expediente** : 741874, 745067.\n",
    "    \n",
    "**Profesor:** Oscar David Jaramillo Zuluaga.\n",
    "    \n",
    "**Link Github**:https://github.com/Emiliano20hdezc/Tarea_6_Repositorio/tree/main\n",
    "# Tarea 5: Clase 10"
   ]
  },
  {
   "cell_type": "markdown",
   "id": "9e3389d8",
   "metadata": {},
   "source": [
    "1. Realizar las siguientes integrales. Poner los resultados en una tabla cuyas filas correspondan a la cantidad de términos utilizados en la aproximación (usar 10, 100, 1000, 10000 y 100000 términos) y cuyas columnas correspondan a las funciones.\n",
    "    + $\\int_{1}^{5} \\log_{10}(2x)+8^x\\text{d}x$.\n",
    "    + $\\int_1^5 \\frac{2^x}{x^4} \\text{d}x$"
   ]
  },
  {
   "cell_type": "markdown",
   "id": "496be26d",
   "metadata": {},
   "source": [
    "Código de solución estudiante 1"
   ]
  },
  {
   "cell_type": "code",
   "execution_count": 18,
   "id": "e445a6bc",
   "metadata": {},
   "outputs": [],
   "source": [
    "import numpy as np\n",
    "import pandas as pd"
   ]
  },
  {
   "cell_type": "code",
   "execution_count": 20,
   "id": "cafc9244",
   "metadata": {},
   "outputs": [],
   "source": [
    "def montecarlo(f,a,b,N):\n",
    "    ui =(b-a)*np.random.rand(N) + a\n",
    "    VP = (1/N)*np.sum(f(ui))\n",
    "    AD_approx = (b-a)*VP\n",
    "    \n",
    "    return AD_approx"
   ]
  },
  {
   "cell_type": "code",
   "execution_count": 21,
   "id": "0ad5a0b3",
   "metadata": {},
   "outputs": [],
   "source": [
    "def f1(x):\n",
    "    return np.log10(2*x) + 8**x\n",
    "def f2(x):\n",
    "    return (2**x)/(x**4)\n",
    "# 2. Definimos los limites de integracion\n",
    "a, b=1,5\n",
    "# 3. Definimos cantidades de terminos\n",
    "N = np.logspace(1,5,5).astype(int)"
   ]
  },
  {
   "cell_type": "code",
   "execution_count": 22,
   "id": "92e1431b",
   "metadata": {},
   "outputs": [
    {
     "data": {
      "text/plain": [
       "array([    10,    100,   1000,  10000, 100000])"
      ]
     },
     "execution_count": 22,
     "metadata": {},
     "output_type": "execute_result"
    }
   ],
   "source": [
    "N"
   ]
  },
  {
   "cell_type": "code",
   "execution_count": 25,
   "id": "10ec477b",
   "metadata": {
    "scrolled": true
   },
   "outputs": [
    {
     "data": {
      "text/html": [
       "<div>\n",
       "<style scoped>\n",
       "    .dataframe tbody tr th:only-of-type {\n",
       "        vertical-align: middle;\n",
       "    }\n",
       "\n",
       "    .dataframe tbody tr th {\n",
       "        vertical-align: top;\n",
       "    }\n",
       "\n",
       "    .dataframe thead th {\n",
       "        text-align: right;\n",
       "    }\n",
       "</style>\n",
       "<table border=\"1\" class=\"dataframe\">\n",
       "  <thead>\n",
       "    <tr style=\"text-align: right;\">\n",
       "      <th></th>\n",
       "      <th>aproximacion f1</th>\n",
       "      <th>aproximacion f2</th>\n",
       "    </tr>\n",
       "    <tr>\n",
       "      <th>Cantidad terminos</th>\n",
       "      <th></th>\n",
       "      <th></th>\n",
       "    </tr>\n",
       "  </thead>\n",
       "  <tbody>\n",
       "    <tr>\n",
       "      <th>10</th>\n",
       "      <td>28322.950753</td>\n",
       "      <td>0.563555</td>\n",
       "    </tr>\n",
       "    <tr>\n",
       "      <th>100</th>\n",
       "      <td>18019.072646</td>\n",
       "      <td>0.798822</td>\n",
       "    </tr>\n",
       "    <tr>\n",
       "      <th>1000</th>\n",
       "      <td>15449.863561</td>\n",
       "      <td>1.041494</td>\n",
       "    </tr>\n",
       "    <tr>\n",
       "      <th>10000</th>\n",
       "      <td>16266.283755</td>\n",
       "      <td>1.008815</td>\n",
       "    </tr>\n",
       "    <tr>\n",
       "      <th>100000</th>\n",
       "      <td>15639.979205</td>\n",
       "      <td>1.005324</td>\n",
       "    </tr>\n",
       "  </tbody>\n",
       "</table>\n",
       "</div>"
      ],
      "text/plain": [
       "                  aproximacion f1 aproximacion f2\n",
       "Cantidad terminos                                \n",
       "10                   28322.950753        0.563555\n",
       "100                  18019.072646        0.798822\n",
       "1000                 15449.863561        1.041494\n",
       "10000                16266.283755        1.008815\n",
       "100000               15639.979205        1.005324"
      ]
     },
     "execution_count": 25,
     "metadata": {},
     "output_type": "execute_result"
    }
   ],
   "source": [
    "tabla = pd.DataFrame(index=N, columns=['aproximacion f1',\n",
    "                                       'aproximacion f2'] )\n",
    "tabla.index.name = 'Cantidad terminos'\n",
    "\n",
    "for n in N:\n",
    "    aprox_f1 = montecarlo(f1,a,b,n)\n",
    "    aprox_f2 = montecarlo(f2,a,b,n)\n",
    "    \n",
    "    tabla.loc[n,'aproximacion f1'] = aprox_f1\n",
    "    tabla.loc[n,'aproximacion f2'] = aprox_f2\n",
    "    \n",
    "tabla\n"
   ]
  },
  {
   "cell_type": "markdown",
   "id": "4b3ae743",
   "metadata": {},
   "source": [
    "De esta manera podemos visualizar en que manera se aproxima la integral conforme aumenta el número de terminos, lo que nos permite obtener mayor exactitud."
   ]
  },
  {
   "cell_type": "markdown",
   "id": "d9667162",
   "metadata": {},
   "source": [
    "Código de solución estudiante 2"
   ]
  },
  {
   "cell_type": "code",
   "execution_count": 6,
   "id": "e782140e",
   "metadata": {},
   "outputs": [],
   "source": [
    "import numpy as np\n",
    "import pandas as pd\n"
   ]
  },
  {
   "cell_type": "code",
   "execution_count": 7,
   "id": "461f1166",
   "metadata": {},
   "outputs": [],
   "source": [
    "def montecarlo(f,a,b,N):\n",
    "    ui =(b-a)*np.random.rand(N) + a\n",
    "    VP = (1/N)*np.sum(f(ui))\n",
    "    AD_approx = (b-a)*VP\n",
    "    \n",
    "    return AD_approx"
   ]
  },
  {
   "cell_type": "code",
   "execution_count": 8,
   "id": "d3397d66",
   "metadata": {},
   "outputs": [],
   "source": [
    "# 1. Definir las funciones que vamos a integrar\n",
    "def f1(x):\n",
    "    return np.log10(2*x) + 8**x\n",
    "def f2(x):\n",
    "    return (2**x)/(x**4)\n",
    "# 2. Definimos los limites de integracion\n",
    "a=1\n",
    "b=5\n",
    "# 3. Definimos cantidades de terminos\n",
    "N = np.logspace(1,5,5).astype(int)"
   ]
  },
  {
   "cell_type": "code",
   "execution_count": 11,
   "id": "5ac6dca1",
   "metadata": {},
   "outputs": [
    {
     "data": {
      "text/html": [
       "<div>\n",
       "<style scoped>\n",
       "    .dataframe tbody tr th:only-of-type {\n",
       "        vertical-align: middle;\n",
       "    }\n",
       "\n",
       "    .dataframe tbody tr th {\n",
       "        vertical-align: top;\n",
       "    }\n",
       "\n",
       "    .dataframe thead th {\n",
       "        text-align: right;\n",
       "    }\n",
       "</style>\n",
       "<table border=\"1\" class=\"dataframe\">\n",
       "  <thead>\n",
       "    <tr style=\"text-align: right;\">\n",
       "      <th></th>\n",
       "      <th>aproximacion f1</th>\n",
       "      <th>aproximacion f2</th>\n",
       "    </tr>\n",
       "    <tr>\n",
       "      <th>cantidad terminos</th>\n",
       "      <th></th>\n",
       "      <th></th>\n",
       "    </tr>\n",
       "  </thead>\n",
       "  <tbody>\n",
       "    <tr>\n",
       "      <th>10</th>\n",
       "      <td>7027.725812</td>\n",
       "      <td>0.859231</td>\n",
       "    </tr>\n",
       "    <tr>\n",
       "      <th>100</th>\n",
       "      <td>13694.41439</td>\n",
       "      <td>1.03551</td>\n",
       "    </tr>\n",
       "    <tr>\n",
       "      <th>1000</th>\n",
       "      <td>15320.958535</td>\n",
       "      <td>0.966158</td>\n",
       "    </tr>\n",
       "    <tr>\n",
       "      <th>10000</th>\n",
       "      <td>15934.389391</td>\n",
       "      <td>1.018434</td>\n",
       "    </tr>\n",
       "    <tr>\n",
       "      <th>100000</th>\n",
       "      <td>15834.350759</td>\n",
       "      <td>1.005266</td>\n",
       "    </tr>\n",
       "  </tbody>\n",
       "</table>\n",
       "</div>"
      ],
      "text/plain": [
       "                  aproximacion f1 aproximacion f2\n",
       "cantidad terminos                                \n",
       "10                    7027.725812        0.859231\n",
       "100                   13694.41439         1.03551\n",
       "1000                 15320.958535        0.966158\n",
       "10000                15934.389391        1.018434\n",
       "100000               15834.350759        1.005266"
      ]
     },
     "execution_count": 11,
     "metadata": {},
     "output_type": "execute_result"
    }
   ],
   "source": [
    "tabla = pd.DataFrame(index=N, columns=['aproximacion f1',\n",
    "                                       'aproximacion f2'] )\n",
    "tabla.index.name = 'cantidad terminos'\n",
    "\n",
    "for n in N:\n",
    "    tabla.loc[n,'aproximacion f1'] = montecarlo(f1,a,b,n)\n",
    "    tabla.loc[n,'aproximacion f2'] = montecarlo(f2,a,b,n)\n",
    "tabla"
   ]
  },
  {
   "cell_type": "markdown",
   "id": "7fb403ec",
   "metadata": {},
   "source": [
    "Mi compañero y yo pudimos concluir que estos datos a pesas de que iban subiendo linealmente en la cantidad de terminos, sus aproximaciones no fueron así. De igual forma conforme la cantidad de términos disminuia el error y nos aumentaba la precisión de la integral. "
   ]
  },
  {
   "cell_type": "code",
   "execution_count": null,
   "id": "2a2c77bd",
   "metadata": {},
   "outputs": [],
   "source": []
  }
 ],
 "metadata": {
  "kernelspec": {
   "display_name": "Python 3 (ipykernel)",
   "language": "python",
   "name": "python3"
  },
  "language_info": {
   "codemirror_mode": {
    "name": "ipython",
    "version": 3
   },
   "file_extension": ".py",
   "mimetype": "text/x-python",
   "name": "python",
   "nbconvert_exporter": "python",
   "pygments_lexer": "ipython3",
   "version": "3.11.4"
  }
 },
 "nbformat": 4,
 "nbformat_minor": 5
}
